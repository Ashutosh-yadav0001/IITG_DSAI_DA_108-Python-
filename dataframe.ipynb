{
  "nbformat": 4,
  "nbformat_minor": 0,
  "metadata": {
    "colab": {
      "provenance": [],
      "authorship_tag": "ABX9TyMNX7y/YG7tPb/x1HA9yN8c",
      "include_colab_link": true
    },
    "kernelspec": {
      "name": "python3",
      "display_name": "Python 3"
    },
    "language_info": {
      "name": "python"
    }
  },
  "cells": [
    {
      "cell_type": "markdown",
      "metadata": {
        "id": "view-in-github",
        "colab_type": "text"
      },
      "source": [
        "<a href=\"https://colab.research.google.com/github/Ashutosh-yadav0001/IITG_DSAI_DA_108-Python-/blob/main/dataframe.ipynb\" target=\"_parent\"><img src=\"https://colab.research.google.com/assets/colab-badge.svg\" alt=\"Open In Colab\"/></a>"
      ]
    },
    {
      "cell_type": "code",
      "execution_count": 3,
      "metadata": {
        "colab": {
          "base_uri": "https://localhost:8080/"
        },
        "id": "48Jz4ks_FW0L",
        "outputId": "9d7075cf-bcb1-495a-d594-fb7227cc5daa"
      },
      "outputs": [
        {
          "output_type": "stream",
          "name": "stdout",
          "text": [
            "   Column 1  Column 2\n",
            "0         1        11\n",
            "1         2        12\n",
            "2         3        13\n",
            "3         4        14\n",
            "4         5        15\n",
            "5         6        16\n",
            "6         7        17\n",
            "7         8        18\n",
            "8         9        19\n",
            "9        10        20\n"
          ]
        }
      ],
      "source": [
        "# prompt: create a dataframe with 2 columns and 10 rows\n",
        "\n",
        "import pandas as pd\n",
        "df = pd.DataFrame({'Column 1': [1, 2, 3, 4, 5, 6, 7, 8, 9, 10],\n",
        "                   'Column 2': [11, 12, 13, 14, 15, 16, 17, 18, 19, 20]})\n",
        "print(df)\n",
        "\n"
      ]
    }
  ]
}