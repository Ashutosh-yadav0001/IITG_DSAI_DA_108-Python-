{
  "nbformat": 4,
  "nbformat_minor": 0,
  "metadata": {
    "colab": {
      "provenance": [],
      "authorship_tag": "ABX9TyPhiFgY+a0YZMHD19D9jTND",
      "include_colab_link": true
    },
    "kernelspec": {
      "name": "python3",
      "display_name": "Python 3"
    },
    "language_info": {
      "name": "python"
    }
  },
  "cells": [
    {
      "cell_type": "markdown",
      "metadata": {
        "id": "view-in-github",
        "colab_type": "text"
      },
      "source": [
        "<a href=\"https://colab.research.google.com/github/Ashutosh-yadav0001/IITG_DSAI_DA_108-Python-/blob/main/DSA_BTS.ipynb\" target=\"_parent\"><img src=\"https://colab.research.google.com/assets/colab-badge.svg\" alt=\"Open In Colab\"/></a>"
      ]
    },
    {
      "cell_type": "code",
      "execution_count": 3,
      "metadata": {
        "id": "3du6t-oNAx33"
      },
      "outputs": [],
      "source": [
        "#Implementation of a Binary Search Tree (BST) in python, including operations like insertion, deletion, and searching (a). Insertion of a new node., (b). Deletion of a node. (c). Searching for a node. (d)Traversing the tree (in-order, pre-order, and post-order).\n",
        "class Node:\n",
        "    def __init__(self, data):\n",
        "        self.data = data\n",
        "        self.left = None\n",
        "        self.right = None\n",
        "\n",
        "class BinarySearchTree:\n",
        "    def __init__(self):\n",
        "        self.root = None\n",
        "\n",
        "    def insert(self, data):\n",
        "        if self.root is None:\n",
        "            self.root = Node(data)\n",
        "        else:\n",
        "            self._insert(data, self.root)\n",
        "\n",
        "    def _insert(self, data, node):\n",
        "        if data < node.data:\n",
        "            if node.left is None:\n",
        "                node.left = Node(data)\n",
        "            else:\n",
        "                self._insert(data, node.left)\n",
        "        else:\n",
        "            if node.right is None:\n",
        "                node.right = Node(data)\n",
        "            else:\n",
        "                self._insert(data, node.right)\n",
        "\n",
        "    def delete(self, data):\n",
        "        if self.root is None:\n",
        "            return\n",
        "        self._delete(data, self.root)\n",
        "\n",
        "    def _delete(self, data, node):\n",
        "        if data < node.data:\n",
        "            if node.left is not None:\n",
        "                self._delete(data, node.left)\n",
        "        elif data > node.data:\n",
        "            if node.right is not None:\n",
        "                self._delete(data, node.right)\n",
        "        else:\n",
        "            if node.left is None:\n",
        "                node = node.right\n",
        "            elif node.right is None:\n",
        "                node = node.left\n",
        "            else:\n",
        "                min_node = self._min_node(node.right)\n",
        "                node.data = min_node.data\n",
        "                self._delete(min_node.data, node.right)\n",
        "\n",
        "    def _min_node(self, node):\n",
        "        while node.left is not None:\n",
        "            node = node.left\n",
        "        return node\n",
        "\n",
        "    def search(self, data):\n",
        "        if self.root is None:\n",
        "            return None\n",
        "        return self._search(data, self.root)\n",
        "\n",
        "    def _search(self, data, node):\n",
        "        if data == node.data:\n",
        "            return node\n",
        "        elif data < node.data and node.left is not None:\n",
        "            return self._search(data, node.left)\n",
        "        elif data > node.data and node.right is not None:\n",
        "            return self._search(data, node.right)\n",
        "        return None\n",
        "\n",
        "    def traverse_inorder(self):\n",
        "        if self.root is not None:\n",
        "            self._traverse_inorder(self.root)\n",
        "\n",
        "    def _traverse_inorder(self, node):\n",
        "        if node.left is not None:\n",
        "            self._traverse_inorder(node.left)\n",
        "        print(node.data)\n",
        "        if node.right is not None:\n",
        "            self._traverse_inorder(node.right)\n",
        "\n",
        "    def traverse_preorder(self):\n",
        "        if self.root is not None:\n",
        "            self._traverse_preorder(self.root)\n",
        "\n",
        "    def _traverse_preorder(self, node):\n",
        "        print(node.data)\n",
        "        if node.left is not None:\n",
        "            self._traverse_preorder(node.left)\n",
        "        if node.right is not None:\n",
        "            self._traverse_preorder(node.right)\n",
        "\n",
        "    def traverse_postorder(self):\n",
        "        if self.root is not None:\n",
        "            self._traverse_postorder(self.root)\n",
        "\n",
        "    def _traverse_postorder(self, node):\n",
        "        if node.left is not None:\n",
        "            self._traverse_postorder(node.left)\n",
        "        if node.right is not None:\n",
        "            self._traverse_postorder(node.right)\n",
        "        print(node.data)\n"
      ]
    },
    {
      "cell_type": "code",
      "source": [
        "# write a operation to insert list(1,2,3,4,5,6)\n",
        "bst = BinarySearchTree()\n",
        "\n",
        "# Insert the list of elements\n",
        "bst.insert(1)\n",
        "bst.insert(2)\n",
        "bst.insert(3)\n",
        "bst.insert(4)\n",
        "bst.insert(5)\n",
        "bst.insert(6)\n",
        "\n",
        "print(\"Inorder traversal of the modified tree\")\n",
        "bst.inorder()"
      ],
      "metadata": {
        "colab": {
          "base_uri": "https://localhost:8080/",
          "height": 193
        },
        "id": "aSY9UpatBdqz",
        "outputId": "1bc4a326-0ab6-4c22-8ce5-189211bbd0c5"
      },
      "execution_count": 7,
      "outputs": [
        {
          "output_type": "stream",
          "name": "stdout",
          "text": [
            "Inorder traversal of the modified tree\n"
          ]
        },
        {
          "output_type": "error",
          "ename": "AttributeError",
          "evalue": "'BinarySearchTree' object has no attribute 'inorder'",
          "traceback": [
            "\u001b[0;31m---------------------------------------------------------------------------\u001b[0m",
            "\u001b[0;31mAttributeError\u001b[0m                            Traceback (most recent call last)",
            "\u001b[0;32m<ipython-input-7-94be9a33702d>\u001b[0m in \u001b[0;36m<cell line: 13>\u001b[0;34m()\u001b[0m\n\u001b[1;32m     11\u001b[0m \u001b[0;34m\u001b[0m\u001b[0m\n\u001b[1;32m     12\u001b[0m \u001b[0mprint\u001b[0m\u001b[0;34m(\u001b[0m\u001b[0;34m\"Inorder traversal of the modified tree\"\u001b[0m\u001b[0;34m)\u001b[0m\u001b[0;34m\u001b[0m\u001b[0;34m\u001b[0m\u001b[0m\n\u001b[0;32m---> 13\u001b[0;31m \u001b[0mbst\u001b[0m\u001b[0;34m.\u001b[0m\u001b[0minorder\u001b[0m\u001b[0;34m(\u001b[0m\u001b[0;34m)\u001b[0m\u001b[0;34m\u001b[0m\u001b[0;34m\u001b[0m\u001b[0m\n\u001b[0m",
            "\u001b[0;31mAttributeError\u001b[0m: 'BinarySearchTree' object has no attribute 'inorder'"
          ]
        }
      ]
    },
    {
      "source": [
        "# write a operation to insert list(1,2,3,4,5,6)\n",
        "bst = BinarySearchTree()\n",
        "\n",
        "# Insert the list of elements\n",
        "bst.insert(1)\n",
        "bst.insert(2)\n",
        "bst.insert(3)\n",
        "bst.insert(4)\n",
        "bst.insert(5)\n",
        "bst.insert(6)\n",
        "\n",
        "print(\"Inorder traversal of the modified tree\")\n",
        "bst.traverse_inorder() # Call the correct method name\n",
        "\n"
      ],
      "cell_type": "code",
      "metadata": {
        "colab": {
          "base_uri": "https://localhost:8080/"
        },
        "id": "teJfpCwRCQJz",
        "outputId": "01b3654b-5146-4bc0-8231-40faad286171"
      },
      "execution_count": 8,
      "outputs": [
        {
          "output_type": "stream",
          "name": "stdout",
          "text": [
            "Inorder traversal of the modified tree\n",
            "1\n",
            "2\n",
            "3\n",
            "4\n",
            "5\n",
            "6\n"
          ]
        }
      ]
    },
    {
      "source": [
        "bst.traverse_inorder()\n",
        "bst.delete(3)  # Attempt to delete the node with value 3\n",
        "\n",
        "print(\"Inorder traversal after deleting 3:\")\n",
        "bst.traverse_inorder()  # Print the inorder traversal to check if 3 is present"
      ],
      "cell_type": "code",
      "metadata": {
        "colab": {
          "base_uri": "https://localhost:8080/"
        },
        "id": "tYKT2BJiCyFF",
        "outputId": "be8d62bf-689c-4e60-c9ef-b408206d1db2"
      },
      "execution_count": 13,
      "outputs": [
        {
          "output_type": "stream",
          "name": "stdout",
          "text": [
            "1\n",
            "2\n",
            "3\n",
            "4\n",
            "5\n",
            "6\n",
            "Inorder traversal after deleting 3:\n",
            "1\n",
            "2\n",
            "3\n",
            "4\n",
            "5\n",
            "6\n"
          ]
        }
      ]
    },
    {
      "source": [
        "def _delete(self, data, node):\n",
        "        if node is None:\n",
        "            return node\n",
        "\n",
        "        if data < node.data:\n",
        "            node.left = self._delete(data, node.left)\n",
        "\n",
        "        elif(data > node.data):\n",
        "            node.right = self._delete(data, node.right)\n",
        "\n",
        "        else:\n",
        "            if node.left is None :\n",
        "                temp = node.right\n",
        "                node = None\n",
        "                return temp\n",
        "\n",
        "            elif node.right is None :\n",
        "                temp = node.left\n",
        "                node = None\n",
        "                return temp\n",
        "\n",
        "            temp = self._min_node(node.right)\n",
        "            node.data = temp.data\n",
        "            node.right = self._delete(temp.data, node.right)\n",
        "\n",
        "        return node"
      ],
      "cell_type": "code",
      "metadata": {
        "id": "APqcIhaODbyg"
      },
      "execution_count": null,
      "outputs": []
    }
  ]
}